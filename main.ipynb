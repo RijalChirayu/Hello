{
 "cells": [
  {
   "attachments": {},
   "cell_type": "markdown",
   "metadata": {},
   "source": [
    "List in Python"
   ]
  },
  {
   "cell_type": "code",
   "execution_count": null,
   "metadata": {},
   "outputs": [],
   "source": [
    "food = ['pizza' , 'hamburgers' , 'hotdog','naan']\n",
    "food.append('Ice cream')\n",
    "food.remove('hamburgers')\n",
    "food.pop()\n",
    "food.insert(0 , 'Cake')\n",
    "food.sort()\n",
    "food.clear()\n",
    "for x in food:\n",
    "    print(x)"
   ]
  },
  {
   "cell_type": "code",
   "execution_count": null,
   "metadata": {},
   "outputs": [],
   "source": [
    "drinks = ['Coffee' , 'soda' , 'tea']\n",
    "dinner = ['pizza' , 'hamburger' , 'hotdog' , 'naan']\n",
    "dessert = ['cake' , 'ice cream']\n",
    "\n",
    "food = [drinks , dinner , dessert]\n",
    "print(food[2][0])\n"
   ]
  },
  {
   "attachments": {},
   "cell_type": "markdown",
   "metadata": {},
   "source": [
    "Tuples in Python"
   ]
  },
  {
   "cell_type": "code",
   "execution_count": null,
   "metadata": {},
   "outputs": [],
   "source": [
    "student = ('Bro' , 18 , 'male')\n",
    "print(student.index('Bro'))\n",
    "print(student.count('Bro'))\n",
    "\n",
    "for x in student:\n",
    "    print(x)\n",
    "if 'Bro' in student:\n",
    "    print('Bro is here')"
   ]
  },
  {
   "attachments": {},
   "cell_type": "markdown",
   "metadata": {},
   "source": [
    "Sets in Python.\n",
    "A set is an collection which is unordered , unindexed . No duplicate values."
   ]
  },
  {
   "cell_type": "code",
   "execution_count": null,
   "metadata": {},
   "outputs": [],
   "source": [
    "utensils = {'fork' ,'spoon' ,'knife' ,'knife'}\n",
    "# utensils.add('napkin')\n",
    "# utensils.remove('fork')\n",
    "dishes = {'bowl ' , 'plate' , 'cup' ,'knife'}\n",
    "# utensils.update(dishes)\n",
    "dinner_table = dishes.union(utensils)\n",
    "for x in utensils:\n",
    "    print(x)\n",
    "# utensils.clear()\n",
    "print(dinner_table)\n",
    "# # print(utensils)\n",
    "print(dishes.intersection(utensils))"
   ]
  },
  {
   "attachments": {},
   "cell_type": "markdown",
   "metadata": {},
   "source": [
    "Dictionaries in Python\n",
    "A changeable , Unordered collection of unique key: balue pairs fast beacuse they use hashing , allows us to access a vlaue quickly."
   ]
  },
  {
   "cell_type": "code",
   "execution_count": null,
   "metadata": {},
   "outputs": [],
   "source": [
    "capitals ={\n",
    "    'USA' : 'Washington DC',\n",
    "    'India' : 'New Delhi' ,\n",
    "    'China' : 'Beijing' ,\n",
    "    'Russia': 'Moscow'\n",
    "}\n",
    "capitals.update({'Germany': 'Berlin'})\n",
    "capitals.update({'USA': 'Las Vegas'})\n",
    "capitals.pop('China') # removes china\n",
    "# capitals.clear() # Clears the whole dictionary\n",
    "# print(capitals['Germany'])\n",
    "# print(capitals.get('Germany'))\n",
    "# print(capitals.keys())\n",
    "# print(capitals.values())\n",
    "# print(capitals.items())\n",
    "print(capitals.get('USA'))\n",
    "\n",
    "for key , value  in capitals.items():\n",
    "    print(key,value)"
   ]
  },
  {
   "attachments": {},
   "cell_type": "markdown",
   "metadata": {},
   "source": [
    "Iterating through a dictionary only if the given condition is True."
   ]
  },
  {
   "cell_type": "code",
   "execution_count": null,
   "metadata": {},
   "outputs": [],
   "source": [
    "marks = {\n",
    "    'Physics' : 80 ,\n",
    "    'Statistics' : 90 ,\n",
    "    'Maths': 80 ,\n",
    "    'English': 90 \n",
    "}\n",
    "for key , value in marks.items():\n",
    "    print(key , value) if value >= 90 else (' ')\n"
   ]
  },
  {
   "attachments": {},
   "cell_type": "markdown",
   "metadata": {},
   "source": [
    "Index operator in Python \n",
    "Index Operator [] = Gives accesss to a sequence's element ( str , list , tuples\n",
    ")"
   ]
  },
  {
   "cell_type": "code",
   "execution_count": null,
   "metadata": {},
   "outputs": [],
   "source": [
    "name = 'first Last'\n",
    "# if (name[0].islower()):\n",
    "#     name = name.capitalize()\n",
    "first_name = name[0:5].upper()\n",
    "last_name = name[6:].lower()\n",
    "print(first_name)\n",
    "print(last_name)"
   ]
  },
  {
   "attachments": {},
   "cell_type": "markdown",
   "metadata": {},
   "source": [
    "Functions In python.\n",
    "A block of code which is exectuted when it is called."
   ]
  },
  {
   "cell_type": "code",
   "execution_count": null,
   "metadata": {},
   "outputs": [],
   "source": [
    "def hello(name, age):\n",
    "    print('Hello' + str(name))\n",
    "    print('You are ' + str(age) + ' years old!')\n",
    "hello('Chirayu' , 18)\n",
    "hello('Chiranjivi' , 15)"
   ]
  },
  {
   "attachments": {},
   "cell_type": "markdown",
   "metadata": {},
   "source": [
    "Return staatement = Fucntions send Python values/objects back to the caller.\n",
    "Therse values/objects are known as the funciton's reurn value"
   ]
  },
  {
   "cell_type": "code",
   "execution_count": null,
   "metadata": {},
   "outputs": [],
   "source": [
    "def multiply(num_1 , num_2):\n",
    "    result = num_1 * num_2\n",
    "    return result\n",
    "x = multiply(1 , 3)\n",
    "print(x)"
   ]
  },
  {
   "attachments": {},
   "cell_type": "markdown",
   "metadata": {},
   "source": [
    "Keyword arguments = arguemts proceded by an identifer when we pass them to a function .\n",
    "The order of the arguments doesn't matter , unlike positional fucntions. \n",
    "Python knows the names of the arguments that our function record."
   ]
  },
  {
   "cell_type": "code",
   "execution_count": null,
   "metadata": {},
   "outputs": [],
   "source": [
    "def hello(first , middle , last):\n",
    "    print('Hello ' + first + ' ' + middle + ' ' + last)\n",
    "hello(last = 'Rijal' , first ='Chirayu' , middle = ' ')"
   ]
  },
  {
   "attachments": {},
   "cell_type": "markdown",
   "metadata": {},
   "source": [
    "Nested function\n",
    "Function calls inside other function calls \n",
    "innermost funcitons are resolved first\n",
    "returned value is used as argument for the next outer function"
   ]
  },
  {
   "cell_type": "code",
   "execution_count": null,
   "metadata": {},
   "outputs": [],
   "source": [
    "num = round(abs(float(input('Enter a whole positiove number:'))))\n",
    "print(num)"
   ]
  },
  {
   "attachments": {},
   "cell_type": "markdown",
   "metadata": {},
   "source": [
    "Variable Scope in python ."
   ]
  },
  {
   "cell_type": "code",
   "execution_count": null,
   "metadata": {},
   "outputs": [],
   "source": [
    "def display():\n",
    "    global name\n",
    "    name = 'code'\n",
    "    \n",
    "    print(name)\n",
    "display()\n",
    "print(name)"
   ]
  },
  {
   "attachments": {},
   "cell_type": "markdown",
   "metadata": {},
   "source": [
    "*args = parameter that will pack all arguments into a tuple\n",
    "        useful so that a function can accept a varying amount of arrguments"
   ]
  },
  {
   "cell_type": "code",
   "execution_count": null,
   "metadata": {},
   "outputs": [],
   "source": [
    "def add(*args):\n",
    "    sum = 0\n",
    "    for i in args:\n",
    "      sum += i\n",
    "    return sum\n",
    "print(add(1,2,4))"
   ]
  },
  {
   "attachments": {},
   "cell_type": "markdown",
   "metadata": {},
   "source": [
    "**kwargs = parameter that will pack all arguments into a dicitionary\n",
    "           usefyl so that function can accept a varying amount of keyword arguments"
   ]
  },
  {
   "cell_type": "code",
   "execution_count": null,
   "metadata": {},
   "outputs": [],
   "source": [
    "def hello(**kwargs):\n",
    "    # print(\"Hello \" + kwargs['first'] + ' ' + kwargs['last'])\n",
    "    print('Hello' , end=' ')\n",
    "    for key , value in kwargs.items():\n",
    "        print(value , end= ' ')\n",
    "\n",
    "hello(title= 'Mr. ' ,first= 'CHirau' , middle= 'Bahdur', last = 'Rijal')"
   ]
  },
  {
   "attachments": {},
   "cell_type": "markdown",
   "metadata": {},
   "source": [
    "str.format() = optional method that gives users more control when displaying output."
   ]
  },
  {
   "cell_type": "code",
   "execution_count": null,
   "metadata": {},
   "outputs": [],
   "source": [
    "animal = 'cow'\n",
    "item = 'moon'\n",
    "\n",
    "print('The {} jumped over the {} '.format(animal , item))\n",
    "print('The {0} jumped over the {1} '.format(item , animal)) #positional argument\n",
    "print('The {item} jumped over the {item} '.format(animal = 'cow' , item = 'moon')) #keyword argument\n",
    "\n",
    "text = 'The {} jumped over the {}'\n",
    "print(text.format(animal , item))"
   ]
  },
  {
   "cell_type": "code",
   "execution_count": null,
   "metadata": {},
   "outputs": [],
   "source": [
    "name = 'Bro'\n",
    "print('Hello , my name is {}'.format(name))\n",
    "print('Hello , my name is {:10} . Nice to meet you'.format(name))\n",
    "print('Hello , my name is {:<10} . Nice to meet you'.format(name))\n",
    "print('Hello , my name is {:>10} . Nice to meet you'.format(name))\n",
    "print('Hello , my name is {:^10} . Nice to meet you'.format(name))"
   ]
  },
  {
   "cell_type": "code",
   "execution_count": null,
   "metadata": {},
   "outputs": [],
   "source": [
    "number = 1000\n",
    "\n",
    "print('The number  is {:.2f}'.format(number))\n",
    "print('The number  is {:,}'.format(number))\n",
    "print('The number  is {:b}'.format(number))\n",
    "print('The number  is {:o}'.format(number))\n",
    "print('The number  is {:X}'.format(number))\n",
    "print('The number  is {:E}'.format(number))"
   ]
  },
  {
   "attachments": {},
   "cell_type": "markdown",
   "metadata": {},
   "source": [
    "Random Module"
   ]
  },
  {
   "cell_type": "code",
   "execution_count": null,
   "metadata": {},
   "outputs": [],
   "source": [
    "import random\n",
    "\n",
    "x = random.randint(1 , 6)\n",
    "y = random.random()\n",
    "\n",
    "myList = ['rock' , 'paper' , 'scissoes' ,1,2,3,4,5,6,7,8,9,10]\n",
    "z = random.choice(myList)\n",
    "random.shuffle(myList)\n",
    "print(myList)\n",
    "print(z)"
   ]
  },
  {
   "attachments": {},
   "cell_type": "markdown",
   "metadata": {},
   "source": [
    "Exception = event detected during execution that interrupt the flow of a program\n"
   ]
  },
  {
   "cell_type": "code",
   "execution_count": null,
   "metadata": {},
   "outputs": [],
   "source": [
    "try:\n",
    "    numerator = int(input('Enter a number to divide: '))\n",
    "    denominator = int(input('Enter a numbr to divide by: '))\n",
    "    result = numerator / denominator\n",
    "    \n",
    "except ZeroDivisionError as e :\n",
    "    print(e)\n",
    "    print('You cant divide by zero idiot!')\n",
    "except ValueError as e:\n",
    "    print(e)\n",
    "    print('Enter only Numbers')\n",
    "except Exception as e:\n",
    "    print(e)\n",
    "    print('Something went wrong!')\n",
    "else:\n",
    "    print(result)\n",
    "finally:\n",
    "    print('This will always execute!')"
   ]
  },
  {
   "attachments": {},
   "cell_type": "markdown",
   "metadata": {},
   "source": [
    "File detection with python"
   ]
  },
  {
   "cell_type": "code",
   "execution_count": null,
   "metadata": {},
   "outputs": [],
   "source": [
    "import os\n",
    "\n",
    "path = r\"C:\\Users\\A C E R\\OneDrive\\Desktop\\Stat Practical Files\"\n",
    "os.path.abspath(path)\n",
    "if os.path.exists(path):\n",
    "    print('That location exists')\n",
    "    if os.path.isfile(path):\n",
    "        print('That is a file')\n",
    "    elif os.path.isdir(path):\n",
    "        print('That is a directory!')\n",
    "    \n",
    "else :\n",
    "    print('It doesn\\'t exist ')"
   ]
  },
  {
   "attachments": {},
   "cell_type": "markdown",
   "metadata": {},
   "source": [
    "Open and read a file using Python!"
   ]
  },
  {
   "cell_type": "code",
   "execution_count": null,
   "metadata": {},
   "outputs": [],
   "source": [
    "try:\n",
    "    with open('text.txt') as file:\n",
    "        print(file.read())\n",
    "except FileNotFoundError :\n",
    "    print('That file was not found')\n"
   ]
  },
  {
   "attachments": {},
   "cell_type": "markdown",
   "metadata": {},
   "source": [
    "Writing Files in Python"
   ]
  },
  {
   "cell_type": "code",
   "execution_count": null,
   "metadata": {},
   "outputs": [],
   "source": [
    "text = '\\nHave a nice day '\n",
    "with open('test.txt' , 'a') as file:\n",
    "    file.write(text)"
   ]
  },
  {
   "attachments": {},
   "cell_type": "markdown",
   "metadata": {},
   "source": [
    "Copying files in python.\n",
    "\n",
    "\n",
    "copyfile() = copies contents of a file\n",
    "copy() = copyfile() + permission mode + destination can be a directory\n",
    "copy2() = copy() + copies metadata(file's creation and modification times)"
   ]
  },
  {
   "cell_type": "code",
   "execution_count": null,
   "metadata": {},
   "outputs": [],
   "source": [
    "import shutil\n",
    "\n",
    "shutil.copyfile('test.txt' , 'copy.txt') # src , destination"
   ]
  },
  {
   "attachments": {},
   "cell_type": "markdown",
   "metadata": {},
   "source": [
    "Some Experimentaition with Python's Statistics module"
   ]
  },
  {
   "cell_type": "code",
   "execution_count": null,
   "metadata": {},
   "outputs": [],
   "source": [
    "import statistics\n",
    "\n",
    "data = [1,2,3,4,5,6,7,8,9,10]\n",
    "\n",
    "variance = (statistics.stdev(data)) ** 2\n",
    "print('The standard deviation of the given data is {:.3f}'.format(statistics.stdev(data)))\n",
    "print('The variance of the given data is {:.3f}'.format(variance))"
   ]
  },
  {
   "attachments": {},
   "cell_type": "markdown",
   "metadata": {},
   "source": [
    "Moving file or directory using Python.."
   ]
  },
  {
   "cell_type": "code",
   "execution_count": null,
   "metadata": {},
   "outputs": [],
   "source": [
    "import os \n",
    "\n",
    "source = 'text.txt'\n",
    "\n",
    "destination = r'C:\\Users\\A C E R\\OneDrive\\Desktop\\test.txt'\n",
    "\n",
    "\n",
    "try: \n",
    "    if os.path.exists(destination):\n",
    "        print('There is already a file there!')\n",
    "    else: \n",
    "        os.replace(source , destination )\n",
    "        print(source + ' was moved')\n",
    "except FileNotFoundError:\n",
    "    print(source + ' was not found')\n"
   ]
  },
  {
   "attachments": {},
   "cell_type": "markdown",
   "metadata": {},
   "source": [
    "Deleting a file in Python"
   ]
  },
  {
   "cell_type": "code",
   "execution_count": null,
   "metadata": {},
   "outputs": [],
   "source": [
    "import os \n",
    "import shutil #to delete folder that contains files.\n",
    "\n",
    "path = 'empty_folder'\n",
    "try:\n",
    "    # os.remove(path)\n",
    "    # os.rmdir(path) #removes empty folder\n",
    "    shutil.rmtree(path) #deletes the directory containing files.\n",
    "except FileNotFoundError:\n",
    "    print(path + ' was not found')\n",
    "except PermissionError:\n",
    "    print('You don\\'t have permission to delete that.')\n",
    "except OSError:\n",
    "    print('You cannot delete that using that fucntion ')\n"
   ]
  },
  {
   "attachments": {},
   "cell_type": "markdown",
   "metadata": {},
   "source": [
    "Shorthand for if else in Python:"
   ]
  },
  {
   "cell_type": "code",
   "execution_count": null,
   "metadata": {},
   "outputs": [],
   "source": [
    "a = 1\n",
    "b = 2\n",
    "if a == b :\n",
    "    print('Yes')\n",
    "else:\n",
    "    print('No')\n",
    "\n",
    "#The above can also be written in following way!\n",
    "print('Yes') if a == b else print('No')"
   ]
  },
  {
   "attachments": {},
   "cell_type": "markdown",
   "metadata": {},
   "source": [
    "Modules in Python\n",
    "module = a File containing Python code . May contain functions , classes , etc.\n",
    "         used with modular programming, which is to seperate a program into parts."
   ]
  },
  {
   "cell_type": "code",
   "execution_count": null,
   "metadata": {},
   "outputs": [],
   "source": [
    "help('modules')"
   ]
  },
  {
   "attachments": {},
   "cell_type": "markdown",
   "metadata": {},
   "source": [
    "Rock , Paper , Scissors Game in Python !"
   ]
  },
  {
   "cell_type": "code",
   "execution_count": null,
   "metadata": {},
   "outputs": [],
   "source": [
    "import random \n",
    "\n",
    "choices = ['rock' , 'paper' , 'scissors']\n",
    "\n",
    "computer = random.choice(choices)\n",
    "player = None\n",
    "\n",
    "while player not in choices:\n",
    "    player = input('rock , paper or scissors?:').lower()\n",
    "\n",
    "if player == computer:\n",
    "\n",
    "    print('Computer: ' , computer)\n",
    "    print('Player: ' , player)\n",
    "    print('Tie')\n",
    "\n",
    "elif player != computer:\n",
    "    if computer == 'paper' and player == 'scissors':\n",
    "        print('Computer: ' , computer)\n",
    "        print('Player: ' , player)\n",
    "        print('You win!')\n",
    "    elif computer == 'rock' and player == 'paper':\n",
    "        print('Computer: ' , computer)\n",
    "        print('Player: ' , player)\n",
    "        print('You win!')\n",
    "    elif computer == 'scissors' and player == 'rock':\n",
    "        print('Computer: ' , computer)\n",
    "        print('Player: ' , player)\n",
    "        print('You win!')\n",
    "\n",
    "    else:\n",
    "        print('Computer: ' , computer)\n",
    "        print('Player: ' , player)\n",
    "        print('You Lose!')"
   ]
  },
  {
   "attachments": {},
   "cell_type": "markdown",
   "metadata": {},
   "source": [
    "Quiz Game"
   ]
  },
  {
   "cell_type": "code",
   "execution_count": null,
   "metadata": {},
   "outputs": [],
   "source": [
    "def new_game():\n",
    "    guesses = []\n",
    "    correct_guesses = 0\n",
    "    question_num = 1\n",
    "\n",
    "    for key  in questions:\n",
    "        print('----------------------------')\n",
    "        print(key)\n",
    "        for i in options[question_num -1]:\n",
    "            print(i)\n",
    "        guess = input('Enter (A , B , C or D): ')\n",
    "        guess = guess.upper()\n",
    "        guesses.append(guess)\n",
    "\n",
    "        correct_guesses += check_answer(questions.get(key) , guess)\n",
    "        question_num += 1\n",
    "       \n",
    "    display_score(correct_guesses , guesses)\n",
    "\n",
    "    \n",
    "\n",
    "def check_answer(answer , guess):\n",
    "    if answer == guess:\n",
    "        print('Correct')\n",
    "        return 1\n",
    "    else : \n",
    "        print('Wrong!')\n",
    "        return 0\n",
    "def display_score(correct_guesses , guesses):\n",
    "    print('-------------------')\n",
    "    print('Reults')\n",
    "    print('---------------------')\n",
    "    print('Answers: ' , end=' ')\n",
    "    for i in questions:\n",
    "        print(questions.get(i) , end = ' ')\n",
    "    print()\n",
    "\n",
    "    print('Guesses: ' , end=' ')\n",
    "    for i in guesses:\n",
    "        print(i , end = ' ')\n",
    "    print()\n",
    "\n",
    "    score = int(correct_guesses / len(questions) * 100)\n",
    "\n",
    "    print('Your Score is : ' + str(score) + '%')\n",
    "    \n",
    "\n",
    "def play_again():\n",
    "    response = input('Do you want to play again ?(yes or no):')\n",
    "    response = response.upper()\n",
    "    if response == 'YES':\n",
    "        return True\n",
    "    else :\n",
    "        return False\n",
    "\n",
    "questions = {\n",
    "    'Who created Python?:' : 'A' ,\n",
    "    'What year was Python created ?:' : 'B' ,\n",
    "    'Python is tributed to which comedy group?: ' : 'C' ,\n",
    "    \n",
    "}\n",
    "options = [['A. Guido Van Rossum', 'B. Elon Musk' , 'C. Bill Gates' , 'D. Mark Zuckerburg'],\n",
    "           ['A. 1989' , 'B. 1991' ,'C. 2002' , 'D. 2016' ],\n",
    "           ['A. Lonely Island' , 'B. Smash' , 'C. Monty Python' , 'D. SNL']\n",
    "           ]\n",
    "\n",
    "new_game()\n",
    "\n",
    "while play_again():\n",
    "    new_game()\n",
    "\n",
    "print('Byee')"
   ]
  },
  {
   "attachments": {},
   "cell_type": "markdown",
   "metadata": {},
   "source": [
    "Python Object Oriented Programming\n",
    "-> Python is an object oriendted Programming Language.\n",
    "-> Almost everything in Python is an object, with its         properties and methods.\n",
    "-> A Class is like an object constructor , or a 'blueprint' for creating objects."
   ]
  },
  {
   "cell_type": "code",
   "execution_count": null,
   "metadata": {},
   "outputs": [],
   "source": [
    "class MyClass:\n",
    "    \n",
    "    def __init__(self , name , age) -> None:\n",
    "        self.name = name\n",
    "        self.age = age\n",
    "\n",
    "p1 = MyClass('Chirayu' , 18)\n",
    "\n",
    "print(p1.name)\n",
    "print(p1.age)\n"
   ]
  },
  {
   "attachments": {},
   "cell_type": "markdown",
   "metadata": {},
   "source": [
    "The __str__() Function\n",
    "-> The __str__() function controls what should be returned \n",
    "   when the class object is represented as a string.\n",
    "   "
   ]
  },
  {
   "cell_type": "code",
   "execution_count": null,
   "metadata": {},
   "outputs": [],
   "source": [
    "\"\"\"If the __str__() function is not set ,\n",
    " the string representation of the object is returned\"\"\"\n",
    "\n",
    "\n",
    "class Person:\n",
    "    def __init__(self , name , age):\n",
    "        self.name = name\n",
    "        self.age = age \n",
    "\n",
    "    def __str__(self):\n",
    "        return f'{self.name} and {self.age}'\n",
    "        \n",
    "p2 = Person('Happy' , 15)\n",
    "\n",
    "print(p2)\n"
   ]
  },
  {
   "attachments": {},
   "cell_type": "markdown",
   "metadata": {},
   "source": [
    "Object Methods \n",
    "-> Objects can also contain methods . Methods in objects are fucntions that belong to the object."
   ]
  },
  {
   "cell_type": "code",
   "execution_count": null,
   "metadata": {},
   "outputs": [],
   "source": [
    "class Person:\n",
    "    def __init__(self , name , age):\n",
    "        self.name = name\n",
    "        self.age = age \n",
    "    \n",
    "    def myfunc(self):\n",
    "        print('Hello My name is ' + self.name)\n",
    "\n",
    "person1 = Person('Chirayu' , 18)\n",
    "\n",
    "person1.myfunc()"
   ]
  },
  {
   "attachments": {},
   "cell_type": "markdown",
   "metadata": {},
   "source": [
    "The Self Parameter\n",
    "=> The self parameter is a reference to the current instance of the class, and is used to access variables that belongs to the class.(It does not have to be named self, we can call it whatever we like, but it has to be the first parameter of any function.But leaving it self is the most accepted way!)"
   ]
  },
  {
   "attachments": {},
   "cell_type": "markdown",
   "metadata": {},
   "source": [
    "We Can delete properties of objects by using the del keyword."
   ]
  },
  {
   "cell_type": "code",
   "execution_count": null,
   "metadata": {},
   "outputs": [],
   "source": [
    "class MyClass:\n",
    "    \n",
    "    def __init__(self , name , age) -> None:\n",
    "        self.name = name\n",
    "        self.age = age\n",
    "\n",
    "p1 = MyClass('Chirayu' , 18)\n",
    "\n",
    "print(p1.name)\n",
    "print(p1.age)\n",
    "\n",
    "del p1.age\n",
    "try:\n",
    "    print(p1.age)\n",
    "except AttributeError: #To avoid errors!\n",
    "    print('The attribute was deleted.') "
   ]
  },
  {
   "attachments": {},
   "cell_type": "markdown",
   "metadata": {},
   "source": [
    "Python Inheritance"
   ]
  },
  {
   "attachments": {},
   "cell_type": "markdown",
   "metadata": {},
   "source": [
    "Inheritance allows us to define a class that inherits all the methods and propertied from another class.\n",
    "\n",
    "-> Parent Class is the class being inherited from, also called\n",
    "   base Class\n",
    "-> Child Class is the class that inherits from another class,\n",
    "   also called derived class."
   ]
  },
  {
   "attachments": {},
   "cell_type": "markdown",
   "metadata": {},
   "source": [
    "Creating Parent class is usual way of making a class.\n",
    "Whereas, Child classes are created in following way ="
   ]
  },
  {
   "cell_type": "code",
   "execution_count": null,
   "metadata": {},
   "outputs": [],
   "source": [
    "class Person: #Person Class is the Parent Class.\n",
    "    def __init__(self , name , age):\n",
    "        self.name = name\n",
    "        self.age = age \n",
    "    \n",
    "    def myfunc(self):\n",
    "        print('Hello My name is ' + self.name)\n",
    "class Student(Person): # Here Student class is the child class.\n",
    "    pass\n",
    "student1 = Student('Jhon' , 18 , )\n",
    "student1.myfunc()"
   ]
  },
  {
   "attachments": {},
   "cell_type": "markdown",
   "metadata": {},
   "source": [
    "When we add the __init__() function in the child class ,the child class will no longer inherit the parent's __init__() function."
   ]
  },
  {
   "cell_type": "code",
   "execution_count": null,
   "metadata": {},
   "outputs": [],
   "source": [
    "class Person: #Person Class is the Parent Class.\n",
    "    def __init__(self , name , age):\n",
    "        self.name = name\n",
    "        self.age = age \n",
    "    \n",
    "    def myfunc(self):\n",
    "        print('Hello My name is ' + self.name)\n",
    "class Student(Person): # Here Student class is the child class.\n",
    "    def __init__(self, name, age):\n",
    "        pass\n",
    "student1 = Student('Jhon' , 18 , ) # This will give us error.\n",
    "student1.myfunc()"
   ]
  },
  {
   "attachments": {},
   "cell_type": "markdown",
   "metadata": {},
   "source": [
    "In order to avoid this conflict and to keep the inheritance of the parent's __init__() funciton , we add a call to the parent's __init__() function."
   ]
  },
  {
   "cell_type": "code",
   "execution_count": null,
   "metadata": {},
   "outputs": [],
   "source": [
    "class Person: #Person Class is the Parent Class.\n",
    "    def __init__(self , name , age):\n",
    "        self.name = name\n",
    "        self.age = age \n",
    "    \n",
    "    def myfunc(self):\n",
    "        print('Hello My name is ' + self.name)\n",
    "class Student(Person): # Here Student class is the child class.\n",
    "    def __init__(self, name, age):\n",
    "        Person.__init__(self ,name ,age)\n",
    "        \n",
    "student1 = Student('Jhon' , 18 , ) # This won't give us error.\n",
    "student1.myfunc()"
   ]
  },
  {
   "attachments": {},
   "cell_type": "markdown",
   "metadata": {},
   "source": [
    "Python also has a super() function that will make the child class inherit all the methods and properties from its parent:"
   ]
  },
  {
   "cell_type": "code",
   "execution_count": null,
   "metadata": {},
   "outputs": [],
   "source": [
    "class Student(Person):\n",
    "    def __init__(self, name, age):\n",
    "        super().__init__(name, age)"
   ]
  },
  {
   "attachments": {},
   "cell_type": "markdown",
   "metadata": {},
   "source": [
    "While creating new propeties we should add new parameter in the __init__() function."
   ]
  },
  {
   "cell_type": "code",
   "execution_count": null,
   "metadata": {},
   "outputs": [],
   "source": [
    "class Student(Person):\n",
    "    def __init__(self, name, age , date_of_birth):\n",
    "        super().__init__(name, age)\n",
    "        self.date_of_birth = date_of_birth\n",
    "\n",
    "student2 = Student('Rob' , 17 , '2005/6/17' )\n",
    "print(student2.date_of_birth)"
   ]
  },
  {
   "attachments": {},
   "cell_type": "markdown",
   "metadata": {},
   "source": [
    "We can also add Methods in addition to the methods inherited from Parent Class."
   ]
  },
  {
   "cell_type": "code",
   "execution_count": null,
   "metadata": {},
   "outputs": [],
   "source": [
    "class Student(Person):\n",
    "    def __init__(self, name, age , date_of_birth):\n",
    "        super().__init__(name, age)\n",
    "        self.date_of_birth = date_of_birth\n",
    "\n",
    "    def sayHello(self):\n",
    "        print(f'Hello {self.name}')\n",
    "\n",
    "student2 = Student('Rob' , 17 , '2005/6/17' )\n",
    "print(student2.date_of_birth)\n",
    "student2.sayHello()"
   ]
  },
  {
   "attachments": {},
   "cell_type": "markdown",
   "metadata": {},
   "source": [
    "Multi-Level Inheritance = When a derived (child) class inherits another derived (Child class)"
   ]
  },
  {
   "cell_type": "code",
   "execution_count": null,
   "metadata": {},
   "outputs": [],
   "source": [
    "class Organism:\n",
    "    alive = True\n",
    "\n",
    "class Animal(Organism):\n",
    "    def eat(self):\n",
    "        print('This animal is eating')\n",
    "\n",
    "class Dog(Animal):\n",
    "\n",
    "    def bark(self):\n",
    "        print('This dog is barking.')\n",
    "\n",
    "dog = Dog()\n",
    "print(dog.alive)\n",
    "dog.eat()\n",
    "dog.bark()"
   ]
  },
  {
   "attachments": {},
   "cell_type": "markdown",
   "metadata": {},
   "source": [
    "Multiple inheritance = When a child class is derived from more than one parent class\n"
   ]
  },
  {
   "cell_type": "code",
   "execution_count": null,
   "metadata": {},
   "outputs": [],
   "source": [
    "class Prey:\n",
    "\n",
    "    def flee(self):\n",
    "        print('This animal flees!')\n",
    "\n",
    "class Predator:\n",
    "\n",
    "    def hunt(self):\n",
    "        print('This animal is hunting!')\n",
    "\n",
    "class Rabbit(Prey):\n",
    "    pass\n",
    "\n",
    "class Hawk(Predator):\n",
    "    pass\n",
    "\n",
    "class Fish(Prey , Predator):\n",
    "    pass\n",
    "\n",
    "rabbit = Rabbit()\n",
    "hawk = Hawk()\n",
    "fish = Fish()\n",
    "\n",
    "rabbit.flee()\n",
    "hawk.hunt()\n",
    "fish.hunt()\n",
    "fish.flee()"
   ]
  },
  {
   "attachments": {},
   "cell_type": "markdown",
   "metadata": {},
   "source": [
    "Method Overriding ->\n",
    "It is an ability of an object oriented programming language to provide a method for  child class to implement the method of the parent class \n",
    "in its own specific way."
   ]
  },
  {
   "cell_type": "code",
   "execution_count": null,
   "metadata": {},
   "outputs": [],
   "source": [
    "class Animal:\n",
    "    def eat(self):\n",
    "        print('THis animal is eating!')\n",
    "class Rabbit(Animal):\n",
    "    def eat(self):\n",
    "        print('This rabbit is eating a carrot.')\n",
    "\n",
    "rabbit = Rabbit()\n",
    "rabbit.eat()"
   ]
  },
  {
   "attachments": {},
   "cell_type": "markdown",
   "metadata": {},
   "source": [
    "Method chaining = Calling Multiple methods sequentially . Each call performs an action on the same object and returns self."
   ]
  },
  {
   "cell_type": "code",
   "execution_count": null,
   "metadata": {},
   "outputs": [],
   "source": [
    "class Animal:\n",
    "    def eat(self):\n",
    "        print('THis animal is eating!')\n",
    "class Rabbit(Animal):\n",
    "    def eat(self):\n",
    "        print('This rabbit is eating a carrot.')\n",
    "        return self\n",
    "    def hide(self):\n",
    "        print('rabbit is hiding!')\n",
    "        return self\n",
    "    def sleep(self):\n",
    "        print('The rabbit is sleeping!')\n",
    "        return self\n",
    "\n",
    "rabbit = Rabbit()\n",
    "rabbit.eat()\\\n",
    "    .hide()\\\n",
    "    .sleep()"
   ]
  },
  {
   "attachments": {},
   "cell_type": "markdown",
   "metadata": {},
   "source": [
    "Abstract Classes in Python! -> prevents a user from creating an object of that class.\n",
    "-> Compels a user to override abstract methods in a child class\n"
   ]
  },
  {
   "attachments": {},
   "cell_type": "markdown",
   "metadata": {},
   "source": [
    "\n",
    "abstract class = a class which contains one or more abstract methods.\n",
    "abstract method = a method that has a declaration but does not have an implementation."
   ]
  },
  {
   "cell_type": "code",
   "execution_count": null,
   "metadata": {},
   "outputs": [],
   "source": [
    "from abc import ABC , abstractmethod\n",
    "\n",
    "\n",
    "class Vehicle(ABC):\n",
    "\n",
    "    @abstractmethod\n",
    "    def go(self): # here the method has a declaration but won't be implememented .\n",
    "        pass\n",
    "    \n",
    "    @abstractmethod\n",
    "    def stop(self):\n",
    "        pass\n",
    "\n",
    "class Car(Vehicle):\n",
    "\n",
    "    def go(self):\n",
    "        print('You drive the car.')\n",
    "\n",
    "    def stop(self):\n",
    "        print('This car is stopped')\n",
    "\n",
    "class Motorcycle(Vehicle):\n",
    "    def go(self):\n",
    "        print('You drive the motorcycle!')\n",
    "\n",
    "    def stop(self):\n",
    "        print('This motorcycle is stopped!')\n",
    "\n",
    "# vehicle = Vehicle()\n",
    "car = Car()\n",
    "motorcycle = Motorcycle()\n",
    "\n",
    "# vehicle.go() # This will give us error\n",
    "car.go()\n",
    "motorcycle.go()\n",
    "\n",
    "car.stop()\n",
    "motorcycle.stop()"
   ]
  },
  {
   "attachments": {},
   "cell_type": "markdown",
   "metadata": {},
   "source": [
    "Passing Objects as argument."
   ]
  },
  {
   "cell_type": "code",
   "execution_count": null,
   "metadata": {},
   "outputs": [],
   "source": [
    "class Car:\n",
    "\n",
    "    color = None\n",
    "\n",
    "class Motorcycle:\n",
    "\n",
    "    color = None\n",
    "\n",
    "def change_color(car , color):\n",
    "\n",
    "    car.color = color\n",
    "\n",
    "car_1 = Car()\n",
    "car_2 = Car()\n",
    "car_3 = Car()\n",
    "\n",
    "bike_1 = Motorcycle()\n",
    "\n",
    "change_color(car_1 , 'Red')\n",
    "change_color(car_2 , 'White')\n",
    "change_color(car_3 , 'Yellow')\n",
    "change_color(bike_1 , 'Black')\n",
    "print(car_1.color)\n",
    "print(car_2.color)\n",
    "print(car_3.color)\n",
    "print(bike_1.color)"
   ]
  },
  {
   "attachments": {},
   "cell_type": "markdown",
   "metadata": {},
   "source": [
    "Duck typing -> concept where the class of an object is less important than the methods and the attributes\n",
    "->class type is not checked if minimum methods/attributes are present \n",
    "\"If it walks like a duck , and it quacks like a duck , then it must be a Duck\""
   ]
  },
  {
   "cell_type": "code",
   "execution_count": null,
   "metadata": {},
   "outputs": [],
   "source": [
    "class Duck:\n",
    "    def walk(self):\n",
    "\n",
    "        print('This duck is walking')\n",
    "\n",
    "    def talk(self):\n",
    "        print('This duck is quacking')\n",
    "\n",
    "class Chicken:\n",
    "\n",
    "    def walk(self):\n",
    "        print('This chicken is walking.')\n",
    "    def talk(self):\n",
    "        print('This chicken is chuking')\n",
    "\n",
    "class Person:\n",
    "\n",
    "    def catch(self , duck):\n",
    "        duck.walk()\n",
    "        duck.talk()\n",
    "        print('You caught the critter!')\n",
    "\n",
    "duck = Duck()\n",
    "chicken = Chicken()\n",
    "person = Person()\n",
    "person.catch(duck)"
   ]
  },
  {
   "attachments": {},
   "cell_type": "markdown",
   "metadata": {},
   "source": [
    "Walrus Operator :=\n",
    "\n",
    "Assignment expression aka walrus operator.\n",
    "Assigns values to variables as part of a larger expression."
   ]
  },
  {
   "cell_type": "code",
   "execution_count": null,
   "metadata": {},
   "outputs": [],
   "source": [
    "# # happy = True\n",
    "# # print(happy)\n",
    "# # print(Happy := True)\n",
    "\n",
    "# foods = list()\n",
    "# while True:\n",
    "#     food = input(\n",
    "#         'What food do You like?'\n",
    "#     )\n",
    "#     if food == 'quit':\n",
    "#         break\n",
    "#     foods.append(food)\n",
    "# print(foods)\n",
    "\n",
    "foods = list()\n",
    "while food := input('What food do you like ?') != 'quit':\n",
    "    foods.append(food)\n"
   ]
  },
  {
   "attachments": {},
   "cell_type": "markdown",
   "metadata": {},
   "source": [
    "assigning Functions to a variable\n"
   ]
  },
  {
   "cell_type": "code",
   "execution_count": null,
   "metadata": {},
   "outputs": [],
   "source": [
    "# def hello():\n",
    "#     print('Hello')\n",
    "# hi = hello\n",
    "# hi()\n",
    "# hello()\n",
    "\n",
    "say = print\n",
    "say(\n",
    "    'Wo I cant believe this works! '\n",
    ")"
   ]
  },
  {
   "attachments": {},
   "cell_type": "markdown",
   "metadata": {},
   "source": [
    "*Higher order function"
   ]
  },
  {
   "attachments": {},
   "cell_type": "markdown",
   "metadata": {},
   "source": [
    "Function that either :\n",
    "a) accepts a function as an argument\n",
    "b) returns a function."
   ]
  },
  {
   "attachments": {},
   "cell_type": "markdown",
   "metadata": {},
   "source": [
    "Example 1"
   ]
  },
  {
   "cell_type": "code",
   "execution_count": null,
   "metadata": {},
   "outputs": [],
   "source": [
    "def loud(text):\n",
    "    return text.upper()\n",
    "\n",
    "def quiet(text):\n",
    "    return text.lower()\n",
    "\n",
    "def hello(func):\n",
    "    text = func('Hello')\n",
    "    print(text)\n",
    "\n",
    "hello(loud)\n",
    "hello(quiet)"
   ]
  },
  {
   "attachments": {},
   "cell_type": "markdown",
   "metadata": {},
   "source": [
    "Example 2"
   ]
  },
  {
   "cell_type": "code",
   "execution_count": null,
   "metadata": {},
   "outputs": [],
   "source": [
    "def divisor(x):\n",
    "    def dividend(y):\n",
    "        return y/x\n",
    "    return dividend\n",
    "divide = divisor(2)\n",
    "print(divide(10))"
   ]
  },
  {
   "attachments": {},
   "cell_type": "markdown",
   "metadata": {},
   "source": [
    "Lambda Function = Function written in 1 line using Lambda keyword. Accepts any number of arguments, but onlu has one expression."
   ]
  },
  {
   "cell_type": "code",
   "execution_count": null,
   "metadata": {},
   "outputs": [],
   "source": [
    "double = lambda x : x * 2 #It doubles the given number.\n",
    "multiply = lambda x, y : x * y #It multiplies two given number.\n",
    "add = lambda x,y,z : x + y + z #It adds the given three number\n",
    "full_name = lambda first_name, last_name : first_name + \" \" + last_name # Adds the two strings.\n",
    "age_check: lambda age : True if age >=10 else False #Returns True if the condition is satisfied.\n",
    "print(double(3))\n",
    "print(multiply(10, 6))\n",
    "print(add(1,2,3))\n",
    "print(full_name('Jason' , 'Mamoa'))\n",
    "print(age_check(10))"
   ]
  },
  {
   "attachments": {},
   "cell_type": "markdown",
   "metadata": {},
   "source": [
    "Sorting in Python"
   ]
  },
  {
   "cell_type": "code",
   "execution_count": null,
   "metadata": {},
   "outputs": [],
   "source": [
    "students = ['Sanji' , 'Luffy' , 'Ussop' ,'Zoro' , 'Franky' ,'Chopper' ,'Brook', 'Jinbei']\n",
    "# students.sort(reverse = True)# It sorts in reverse order.\n",
    "# students.sort()\n",
    "sorted_students = sorted(students , reverse = True ) #adding 'reverse = True' will sort in reverse order.\n",
    "for i in sorted_students:\n",
    "    print(i)"
   ]
  },
  {
   "cell_type": "code",
   "execution_count": null,
   "metadata": {},
   "outputs": [],
   "source": [
    "students = [\n",
    "    ('Franky' , 'Shipwright' , 32),\n",
    "    ('Brook' , 'Musician' , 90),\n",
    "    ('Sanji' , 'Cook' , 21),\n",
    "    ('Zoro' , 'Swordsman' , 21),\n",
    "    ('Luffy' , 'Captain' , 19)\n",
    "]\n",
    "age = lambda ages: ages[2]\n",
    "students.sort(key = age) #we can also add that reverse parameter to print it in reverse order.\n",
    " \n",
    "for i in students:\n",
    "    print(i)"
   ]
  },
  {
   "cell_type": "code",
   "execution_count": null,
   "metadata": {},
   "outputs": [],
   "source": [
    "students = (\n",
    "    ('Franky' , 'Shipwright' , 32),\n",
    "    ('Brook' , 'Musician' , 90),\n",
    "    ('Sanji' , 'Cook' , 21),\n",
    "    ('Zoro' , 'Swordsman' , 21),\n",
    "    ('Luffy' , 'Captain' , 19)\n",
    ")\n",
    "role = lambda roles: roles[1]\n",
    "sorted_students = sorted(students , key = role)\n",
    "for i in students:\n",
    "    print(i)"
   ]
  },
  {
   "attachments": {},
   "cell_type": "markdown",
   "metadata": {},
   "source": [
    "map() = applies a function to each item in an iterable(list, tuple, etc.)\n",
    "#map(Function , iterable)"
   ]
  },
  {
   "cell_type": "code",
   "execution_count": null,
   "metadata": {},
   "outputs": [],
   "source": [
    "store = [\n",
    "    ('shirts' , 20.00),\n",
    "    ('pants' , 25.00),\n",
    "    ('Jackets' , 50.00),\n",
    "    ('socks' , 10.00)\n",
    "]\n",
    "\n",
    "to_euro = lambda data : (data[0] , data[1] * 0.82)\n",
    "store_euros = list(map(to_euro , store))\n",
    "print(store_euros)\n",
    "\n"
   ]
  },
  {
   "attachments": {},
   "cell_type": "markdown",
   "metadata": {},
   "source": [
    "filter() = Creates a collection of elements from an iterable for which a function returns True\n",
    " "
   ]
  },
  {
   "cell_type": "code",
   "execution_count": null,
   "metadata": {},
   "outputs": [],
   "source": [
    "friends = [\n",
    "    ('Franky' , 'Shipwright' , 32),\n",
    "    ('Brook' , 'Musician' , 90),\n",
    "    ('Sanji' , 'Cook' , 21),\n",
    "    ('Zoro' , 'Swordsman' , 21),\n",
    "    ('Luffy' , 'Captain' , 19)\n",
    "]\n",
    "age = lambda data : data[2] >= 18\n",
    "print(list(filter(age , friends)))"
   ]
  },
  {
   "attachments": {},
   "cell_type": "markdown",
   "metadata": {},
   "source": [
    "#reduce()"
   ]
  },
  {
   "attachments": {},
   "cell_type": "markdown",
   "metadata": {},
   "source": [
    "reduce function apply a function to an iterable and reduce it to a single cumulative value."
   ]
  },
  {
   "attachments": {},
   "cell_type": "markdown",
   "metadata": {},
   "source": [
    "Performs function on first two elements and repeats process until 1 value remains."
   ]
  },
  {
   "cell_type": "code",
   "execution_count": null,
   "metadata": {},
   "outputs": [],
   "source": [
    "#reduce(function , iterable)\n",
    "import functools\n",
    "letters = ['H','E','L','L','O']\n",
    "word = functools.reduce(lambda x , y: x + y ,letters)\n",
    "print(word)"
   ]
  },
  {
   "cell_type": "code",
   "execution_count": null,
   "metadata": {},
   "outputs": [],
   "source": [
    "import functools\n",
    "factorial = [5,4,3,2,1]\n",
    "result = functools.reduce(lambda x , y : x * y , factorial)\n",
    "print(result)"
   ]
  },
  {
   "attachments": {},
   "cell_type": "markdown",
   "metadata": {},
   "source": [
    "#List Comprehension"
   ]
  },
  {
   "attachments": {},
   "cell_type": "markdown",
   "metadata": {},
   "source": [
    "It is a way to create a new list with less syntax . It can mimic certain lambda functions, easier to read.\n"
   ]
  },
  {
   "cell_type": "code",
   "execution_count": null,
   "metadata": {},
   "outputs": [],
   "source": [
    "#list = [expression for item in iterable]\n",
    "\n",
    "# squares = []\n",
    "# for i in range(1 ,11):\n",
    "#     squares.append(i**2)\n",
    "# print(squares)\n",
    "#The above code was done in 4 lines but using list comprehension\n",
    "squares = [i * i for i in range(1,11)]\n",
    "print(squares)"
   ]
  },
  {
   "cell_type": "code",
   "execution_count": null,
   "metadata": {},
   "outputs": [],
   "source": [
    "students = [100,90 ,80 ,70 , 60 , 50 , 40 ,30 ,30]\n",
    "passed_students = list(filter(lambda x : x >= 60 , students ))\n",
    "print(passed_students)\n",
    "passed_students_2 = [x if x >= 60 else \"Failed\" for x in students] # The same thing can be done using list comprehension\n",
    "print(passed_students_2)"
   ]
  },
  {
   "attachments": {},
   "cell_type": "markdown",
   "metadata": {},
   "source": [
    "#Dictionary Comprehension"
   ]
  },
  {
   "attachments": {},
   "cell_type": "markdown",
   "metadata": {},
   "source": [
    "dictionary = {key: expression for (key,value) in iterable}"
   ]
  },
  {
   "cell_type": "code",
   "execution_count": null,
   "metadata": {},
   "outputs": [],
   "source": [
    "cities_in_f = {\n",
    "    'New York': 32, 'Boston': 75 , 'Los Angeles': 100 , 'Chicago': 50\n",
    "\n",
    "}\n",
    "cities_in_c = {key:round((value-32)*(5/9)) for (key, value) in cities_in_f.items()}\n",
    "print(cities_in_c)"
   ]
  },
  {
   "cell_type": "code",
   "execution_count": null,
   "metadata": {},
   "outputs": [],
   "source": [
    "weather = {'New York': 'snowing', 'Boston': 'sunny' , 'Los Angeles': 'sunny' , 'Chicago': 'cloudy'}\n",
    "sunny_weather = {key: value for (key,value) in weather.items() if value==\"sunny\"}\n",
    "print(sunny_weather)"
   ]
  },
  {
   "cell_type": "code",
   "execution_count": 11,
   "metadata": {},
   "outputs": [
    {
     "name": "stdout",
     "output_type": "stream",
     "text": [
      "{'New York': 'cold', 'Boston': 'Warm', 'Los Angeles': 'Warm', 'Chicago': 'Warm'}\n"
     ]
    }
   ],
   "source": [
    "cities_in_f = {\n",
    "    'New York': 32, 'Boston': 75 , 'Los Angeles': 100 , 'Chicago': 50\n",
    "\n",
    "}\n",
    "desc_cities  = {key: (\"Warm\" if value >= 40 else \"cold\") for (key, value) in cities_in_f.items()}\n",
    "print(desc_cities)"
   ]
  },
  {
   "cell_type": "code",
   "execution_count": 10,
   "metadata": {},
   "outputs": [
    {
     "name": "stdout",
     "output_type": "stream",
     "text": [
      "{'New York': 'Cold', 'Boston': 'Hot', 'Los Angeles': 'Hot', 'Chicago': 'Warm'}\n"
     ]
    }
   ],
   "source": [
    "cities_in_f = {\n",
    "    'New York': 32, 'Boston': 75 , 'Los Angeles': 100 , 'Chicago': 50\n",
    "\n",
    "}\n",
    "def check_temp(value):\n",
    "    if value >= 70:\n",
    "        return \"Hot\"\n",
    "    elif 69>= value  >= 40:\n",
    "        return \"Warm\"\n",
    "    else:\n",
    "        return \"Cold\"\n",
    "desc_cities  = {key: check_temp(value) for (key, value) in cities_in_f.items()}\n",
    "print(desc_cities)"
   ]
  },
  {
   "attachments": {},
   "cell_type": "markdown",
   "metadata": {},
   "source": [
    "#Zip Function"
   ]
  },
  {
   "attachments": {},
   "cell_type": "markdown",
   "metadata": {},
   "source": [
    "zip(*iterable) = aggregate elements from two or more iterables (list , tuples ,sets,etc.)"
   ]
  },
  {
   "attachments": {},
   "cell_type": "markdown",
   "metadata": {},
   "source": [
    "creates a zip object with paired elements stored in tuples for each element"
   ]
  },
  {
   "cell_type": "code",
   "execution_count": 18,
   "metadata": {},
   "outputs": [
    {
     "name": "stdout",
     "output_type": "stream",
     "text": [
      "Jhon : password\n",
      "Thomas : abc123\n",
      "Newton : gravity\n",
      "Albert : noobie\n",
      "<class 'dict'>\n",
      "{'Jhon': 'password', 'Thomas': 'abc123', 'Newton': 'gravity', 'Albert': 'noobie'}\n"
     ]
    }
   ],
   "source": [
    "username = ['Jhon' ,'Thomas' , 'Newton' , \"Albert\"]\n",
    "passwords = (\"password\", \"abc123\" , \"gravity\" , \"noobie\")\n",
    "\n",
    "users = dict(zip(username , passwords))\n",
    "for key, value in users.items():\n",
    "    print(key+ \" : \" + value)\n",
    "print(type(users))\n",
    "print(users)"
   ]
  },
  {
   "attachments": {},
   "cell_type": "markdown",
   "metadata": {},
   "source": [
    "#Time Module"
   ]
  },
  {
   "cell_type": "code",
   "execution_count": 15,
   "metadata": {},
   "outputs": [
    {
     "name": "stdout",
     "output_type": "stream",
     "text": [
      "Mon Jan 12 19:31:41 1970\n",
      "1684910482.633048\n",
      "Wed May 24 12:26:22 2023\n",
      "time.struct_time(tm_year=2023, tm_mon=5, tm_mday=24, tm_hour=12, tm_min=26, tm_sec=22, tm_wday=2, tm_yday=144, tm_isdst=0)\n",
      "May:05/24/23:2023 12:26:22\n"
     ]
    }
   ],
   "source": [
    "import time\n",
    "print(time.ctime(1000001)) # convert a time when expressed in seconds\n",
    "                     # since epoch to a readable string . Epoch = when your computer thinks time began\n",
    "                     # (refrence point)\n",
    "print(time.time()) #return current seconds since epoch\n",
    "print(time.ctime(time.time()))\n",
    "time_object = time.localtime()\n",
    "# time_object = time.gmtime() #to get universal time\n",
    "print(time_object)\n",
    "local_time = time.strftime('%B:%D:%Y %H:%M:%S', time_object)\n",
    "print(local_time)"
   ]
  },
  {
   "cell_type": "code",
   "execution_count": 48,
   "metadata": {},
   "outputs": [
    {
     "name": "stdout",
     "output_type": "stream",
     "text": [
      "time.struct_time(tm_year=2020, tm_mon=4, tm_mday=20, tm_hour=0, tm_min=0, tm_sec=0, tm_wday=0, tm_yday=111, tm_isdst=-1)\n"
     ]
    }
   ],
   "source": [
    "time_string = \"20 April, 2020\"\n",
    "time_object = time.strptime(time_string , \"%d %B, %Y\")\n",
    "print(time_object)"
   ]
  },
  {
   "cell_type": "code",
   "execution_count": 5,
   "metadata": {},
   "outputs": [
    {
     "name": "stdout",
     "output_type": "stream",
     "text": [
      "Mon Apr 20 04:20:00 2004\n"
     ]
    }
   ],
   "source": [
    "import time\n",
    "#(year, month , day , hours ,minutes , secs ,#day of the week, #day of the year ,dst)\n",
    "time_tuple = (2004,4,20,4,20,0,0,0,0)\n",
    "time_string = time.asctime(time_tuple)\n",
    "print(time_string)"
   ]
  },
  {
   "attachments": {},
   "cell_type": "markdown",
   "metadata": {},
   "source": [
    "#Threading"
   ]
  },
  {
   "cell_type": "code",
   "execution_count": 27,
   "metadata": {},
   "outputs": [
    {
     "name": "stdout",
     "output_type": "stream",
     "text": [
      "You eat breakfast\n",
      "You drink coffee\n",
      "U finish coffee\n",
      "6\n",
      "[<_MainThread(MainThread, started 8340)>, <Thread(IOPub, started daemon 5712)>, <Heartbeat(Heartbeat, started daemon 14852)>, <ControlThread(Control, started daemon 1360)>, <HistorySavingThread(IPythonHistorySavingThread, started 14908)>, <ParentPollerWindows(Thread-2, started daemon 8288)>]\n",
      "5.0072190999635495\n"
     ]
    }
   ],
   "source": [
    "\"\"\"\n",
    "thread = a flow of execution. Like a separate order of instrucions.\n",
    "         however each thread takes a turn running to achiece concurrency\n",
    "         GIL = (global interpreter lock),\n",
    "         allows only one thread to hold  the control of the python interpreter\n",
    "cpu Bound = program/task  spends most of it's time waiting for\n",
    "            internal events (CPU instesnive) \n",
    "              use multiprocessing\n",
    "io bound = program/task spends most of its time waiting for external\n",
    "           events (user input , web scraping) \n",
    "           use multithreading\n",
    "\"\"\"\n",
    "import threading\n",
    "import time\n",
    "import timeit\n",
    "\n",
    "starttime = time.perf_counter()\n",
    "\n",
    "def eat_breakfast():\n",
    "    time.sleep(3)\n",
    "    print('You eat breakfast'\n",
    "    )\n",
    "def drink_coffee():\n",
    "    time.sleep(4)\n",
    "    print(\"You drink coffee\")\n",
    "def study():\n",
    "    time.sleep(5)\n",
    "    print('U finish coffee')\n",
    "\n",
    "x = threading.Thread(target=eat_breakfast, args=())\n",
    "x.start()\n",
    "\n",
    "y = threading.Thread(target=drink_coffee, args=())\n",
    "y.start()\n",
    "\n",
    "z = threading.Thread(target=study, args=())\n",
    "z.start()\n",
    "x.join() #The main code will have to halt the processes until x finishes.\n",
    "y.join() #Same for this function\n",
    "z.join()\n",
    "\n",
    "print(threading.active_count())\n",
    "print(threading.enumerate())\n",
    "endtime = time.perf_counter()\n",
    "print(endtime - starttime)"
   ]
  },
  {
   "attachments": {},
   "cell_type": "markdown",
   "metadata": {},
   "source": [
    "#daemon thread"
   ]
  },
  {
   "cell_type": "code",
   "execution_count": 3,
   "metadata": {},
   "outputs": [
    {
     "name": "stderr",
     "output_type": "stream",
     "text": [
      "C:\\Users\\A C E R\\AppData\\Local\\Temp\\ipykernel_18140\\4247198054.py:29: DeprecationWarning: isDaemon() is deprecated, get the daemon attribute instead\n",
      "  print(x.isDaemon())\n"
     ]
    },
    {
     "name": "stdout",
     "output_type": "stream",
     "text": [
      "\n",
      "True\n",
      "Logged in for:  1  seconds\n",
      "Logged in for:  2  seconds\n",
      "Logged in for:  3  seconds\n",
      "Logged in for:  4  seconds\n"
     ]
    },
    {
     "name": "stdout",
     "output_type": "stream",
     "text": [
      "Logged in for:  5  seconds\n",
      "Logged in for:  6  seconds\n",
      "Logged in for:  7  seconds\n",
      "Logged in for:  8  seconds\n",
      "Logged in for:  9  seconds\n",
      "Logged in for:  10  seconds\n"
     ]
    }
   ],
   "source": [
    "\"\"\"\n",
    "daemon Thread = a thread that runs in the background, not important\n",
    "                for program to run \n",
    "                our program will not wait for daemon threads to \n",
    "                complete before exiting\n",
    "                non-daemon threads cannot normally be killed, stay\n",
    "                alive until task is complete\n",
    "\n",
    "                ex. background tasks, garbage collectuon, waiting for input\n",
    "                waiting for input , long running process\n",
    "\"\"\"\n",
    "import threading\n",
    "import time\n",
    "\n",
    "def timer():\n",
    "    print()\n",
    "    count = 0\n",
    "    chirayu = True\n",
    "    while chirayu:\n",
    "        time.sleep(1)\n",
    "        count +=1\n",
    "        print('Logged in for: ' , count, ' seconds')\n",
    "        if count == 10:\n",
    "            chirayu = False\n",
    "x = threading.Thread(target=timer, daemon=True)\n",
    "x.start()\n",
    "\n",
    "\n",
    "print(x.isDaemon())\n",
    "answer = input('Do you wish to exit?')\n",
    "\n"
   ]
  },
  {
   "attachments": {},
   "cell_type": "markdown",
   "metadata": {},
   "source": [
    "Moving cursor on its own"
   ]
  },
  {
   "cell_type": "code",
   "execution_count": 52,
   "metadata": {},
   "outputs": [
    {
     "name": "stdout",
     "output_type": "stream",
     "text": [
      "THe cursor moved to 259 and 293 coordinates\n",
      "THe cursor moved to 259 and 293 coordinates\n",
      "THe cursor moved to 259 and 293 coordinates\n",
      "THe cursor moved to 259 and 293 coordinates\n",
      "THe cursor moved to 259 and 293 coordinates\n",
      "THe cursor moved to 259 and 293 coordinates\n",
      "THe cursor moved to 259 and 293 coordinates\n",
      "THe cursor moved to 259 and 293 coordinates\n",
      "THe cursor moved to 259 and 293 coordinates\n",
      "THe cursor moved to 259 and 293 coordinates\n"
     ]
    }
   ],
   "source": [
    "import pyautogui as pag\n",
    "import random\n",
    "import time\n",
    "i = 0\n",
    "while i < 10:\n",
    "    time.sleep(1)\n",
    "    pag.moveTo(x = random.randint(1,500),y = random.randint(1,500))\n",
    "    i += 1\n",
    "    print(f'THe cursor moved to {x} and {y} coordinates')"
   ]
  },
  {
   "attachments": {},
   "cell_type": "markdown",
   "metadata": {},
   "source": [
    "Python Multiprocessing"
   ]
  },
  {
   "cell_type": "code",
   "execution_count": 50,
   "metadata": {},
   "outputs": [
    {
     "name": "stdout",
     "output_type": "stream",
     "text": [
      "16\n",
      "Finished in  0.1505397000000812  seconds\n",
      "__main__\n"
     ]
    }
   ],
   "source": [
    "\"\"\"\n",
    "multiprocessing = running tasks in parallel on different CPU cores,\n",
    "                  bypasses GIL used for threading.\n",
    "                  multiprocessing = better for cpu bound tasks\n",
    "                  multithreadin = better for io bound tasks\n",
    "\"\"\"\n",
    "from multiprocessing import Process, cpu_count\n",
    "import time\n",
    "\n",
    "def counter(num):\n",
    "   \n",
    "    while count < num:\n",
    "        count += 1\n",
    "    print(count)   \n",
    "\n",
    "\n",
    "def main():\n",
    "    print(cpu_count())\n",
    "    starttime = time.perf_counter()\n",
    "    a = Process(target=counter, args =(10000000000,))\n",
    "    b = Process(target=counter, args =(100000000,))\n",
    "    \n",
    "    a.start()\n",
    "    b.start()\n",
    "    a.join()\n",
    "    b.join()\n",
    "\n",
    "    endtime = time.perf_counter()\n",
    "    print('Finished in ' , endtime - starttime , ' seconds')\n",
    "    \n",
    "if __name__ == \"__main__\":\n",
    "    main()\n",
    "print(__name__)"
   ]
  }
 ],
 "metadata": {
  "kernelspec": {
   "display_name": "Python 3 (ipykernel)",
   "language": "python",
   "name": "python3"
  },
  "language_info": {
   "codemirror_mode": {
    "name": "ipython",
    "version": 3
   },
   "file_extension": ".py",
   "mimetype": "text/x-python",
   "name": "python",
   "nbconvert_exporter": "python",
   "pygments_lexer": "ipython3",
   "version": "3.11.2"
  }
 },
 "nbformat": 4,
 "nbformat_minor": 4
}
